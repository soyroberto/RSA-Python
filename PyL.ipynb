{
  "nbformat": 4,
  "nbformat_minor": 0,
  "metadata": {
    "colab": {
      "provenance": [],
      "authorship_tag": "ABX9TyOr3GpAwnWwrGDZU9Rhy/Sb",
      "include_colab_link": true
    },
    "kernelspec": {
      "name": "python3",
      "display_name": "Python 3"
    },
    "language_info": {
      "name": "python"
    }
  },
  "cells": [
    {
      "cell_type": "markdown",
      "metadata": {
        "id": "view-in-github",
        "colab_type": "text"
      },
      "source": [
        "<a href=\"https://colab.research.google.com/github/soyroberto/RSA-Python/blob/master/PyL.ipynb\" target=\"_parent\"><img src=\"https://colab.research.google.com/assets/colab-badge.svg\" alt=\"Open In Colab\"/></a>"
      ]
    },
    {
      "cell_type": "code",
      "execution_count": null,
      "metadata": {
        "colab": {
          "base_uri": "https://localhost:8080/"
        },
        "id": "xjCnrEBkkSQH",
        "outputId": "52d2f95a-64be-4a8f-8787-37c7051d3d87"
      },
      "outputs": [
        {
          "output_type": "stream",
          "name": "stdout",
          "text": [
            "8\n"
          ]
        }
      ],
      "source": [
        "x = 2\n",
        "five = x + 2\n",
        "y = five + 4\n",
        "# y = y + 1\n",
        "print(y)"
      ]
    },
    {
      "cell_type": "code",
      "source": [
        "name = input('What is your name? ')\n",
        "d = name\n",
        "print(str(d))\n",
        "print(type(d))"
      ],
      "metadata": {
        "id": "VBDsIk4FkkPC"
      },
      "execution_count": null,
      "outputs": []
    },
    {
      "cell_type": "code",
      "source": [
        "income = float(input('Enter income: $'))\n",
        "if income > 100000:\n",
        "    tax = 0.4 * income\n",
        "    income = income - tax\n",
        "print(income)"
      ],
      "metadata": {
        "colab": {
          "base_uri": "https://localhost:8080/"
        },
        "id": "CZvOM52orR76",
        "outputId": "541c6d76-d0ec-4915-b1d9-af643de9424e"
      },
      "execution_count": 1,
      "outputs": [
        {
          "output_type": "stream",
          "name": "stdout",
          "text": [
            "Enter income: $1111111111\n",
            "666666666.5999999\n"
          ]
        }
      ]
    }
  ]
}